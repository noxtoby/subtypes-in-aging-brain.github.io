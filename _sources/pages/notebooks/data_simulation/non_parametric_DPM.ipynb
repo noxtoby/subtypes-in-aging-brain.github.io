{
 "cells": [
  {
   "cell_type": "markdown",
   "metadata": {},
   "source": [
    "# Title of the notebook\n",
    "\n",
    "The title (with level-1 markdown identation, i.e. #) will appear in the content of the website.\n",
    "\n",
    "\n",
    "The markdown structure of the notebook directly relates to the structure of the website, as Jupyter Book parses markdown structure. For that reason : \n",
    "    \n",
    "- use level 1 identation (#) only for the title, otherwise it will appear on the website\n",
    "- use level 2 identation (##) for the different parts of the notebook - they will appear in the \"Content\" right panel on the website once you are on the tutorial page\n",
    "- use appropriate level identation, meaning \"in order\" : do not use level 4 (####) right after a level 2 (##), bur a level three first (###).\n",
    "    \n",
    "    \n",
    "## Objectives : \n",
    "\n",
    "- It would be nice to start with some objectives\n",
    "- And some other here\n",
    "- Even other here\n",
    "\n",
    "\n",
    "## The set-up\n",
    "\n",
    "Write the step-up to launch the tutorial here! It should be as easy as possible."
   ]
  },
  {
   "cell_type": "code",
   "execution_count": 1,
   "metadata": {},
   "outputs": [],
   "source": [
    "# Set up\n",
    "\n",
    "import pandas as pd\n",
    "import numpy as np"
   ]
  },
  {
   "cell_type": "markdown",
   "metadata": {},
   "source": [
    "## Part I: ...\n",
    "\n",
    "\n",
    "__💬 QUESTION 💬 Store the result of 1 + 1 in the variable A__\n",
    "\n",
    "__ℹ️ INFORMATION ℹ️ Have two cell, one for the question, the other with the answer__\n"
   ]
  },
  {
   "cell_type": "code",
   "execution_count": 3,
   "metadata": {},
   "outputs": [],
   "source": [
    "# Your answer here"
   ]
  },
  {
   "cell_type": "code",
   "execution_count": 2,
   "metadata": {},
   "outputs": [],
   "source": [
    "# –––––––––––––––– #\n",
    "# –––– Answer –––– #\n",
    "# –––––––––––––––– #\n",
    "\n",
    "A = 1 + 1"
   ]
  },
  {
   "cell_type": "markdown",
   "metadata": {},
   "source": [
    "__⚡ REMARK ⚡ Congrats__"
   ]
  },
  {
   "cell_type": "code",
   "execution_count": null,
   "metadata": {},
   "outputs": [],
   "source": []
  }
 ],
 "metadata": {
  "kernelspec": {
   "display_name": "Python 3",
   "language": "python",
   "name": "python3"
  },
  "language_info": {
   "codemirror_mode": {
    "name": "ipython",
    "version": 3
   },
   "file_extension": ".py",
   "mimetype": "text/x-python",
   "name": "python",
   "nbconvert_exporter": "python",
   "pygments_lexer": "ipython3",
   "version": "3.8.6"
  }
 },
 "nbformat": 4,
 "nbformat_minor": 4
}
